{
 "cells": [
  {
   "cell_type": "code",
   "execution_count": 2,
   "id": "b941df79",
   "metadata": {},
   "outputs": [
    {
     "name": "stdout",
     "output_type": "stream",
     "text": [
      "Enter the message: dheeraj\n",
      "Enter the key: key\n",
      "Encrypted message is : =-#:X`V\n",
      "Decrypted message is : DHEERAJ\n"
     ]
    }
   ],
   "source": [
    "Alpahbets = ' A!1B@2C#D3$E%4F^G5&H*6I(J7)K_8L-M9+N=0O:P;Q\\'R\"S?T/U>V<W.X,Y`Z~'\n",
    "\n",
    "def vigenere_encrypt(plain_text,key):\n",
    "    \n",
    "    plain_text = plain_text.upper()\n",
    "    key = key.upper()\n",
    "    \n",
    "    cipher_text = ''\n",
    "    Key_Index = 0\n",
    "    \n",
    "    for char in plain_text:\n",
    "        index = (Alpahbets.find(char) + Alpahbets.find(key[Key_Index])) % len(Alpahbets)\n",
    "        cipher_text =cipher_text + Alpahbets[index]\n",
    "        Key_Index = Key_Index + 1\n",
    "        \n",
    "        if Key_Index == len(key):\n",
    "            Key_Index = 0\n",
    "            \n",
    "    return cipher_text\n",
    "\n",
    "def vigenere_decrypt(cipher_text,key):\n",
    "    \n",
    "    cipher_text = cipher_text.upper()\n",
    "    key = key.upper()\n",
    "    \n",
    "    plain_text = ''\n",
    "    Key_Index = 0\n",
    "    \n",
    "    for char in cipher_text:\n",
    "        index = (Alpahbets.find(char) - Alpahbets.find(key[Key_Index])) % len(Alpahbets)\n",
    "        plain_text = plain_text + Alpahbets[index]\n",
    "        Key_Index = Key_Index + 1\n",
    "        \n",
    "        if Key_Index == len(key):\n",
    "            Key_Index = 0\n",
    "    \n",
    "    return plain_text\n",
    "    \n",
    "if __name__ == '__main__':\n",
    "    text = input(\"Enter the message: \")\n",
    "    KEY = input(\"Enter the key: \")\n",
    "    \n",
    "    encrypted_msg = vigenere_encrypt(text,KEY)\n",
    "    print('Encrypted message is :',encrypted_msg)\n",
    "\n",
    "    decrypted_msg = vigenere_decrypt(encrypted_msg,KEY)\n",
    "    print('Decrypted message is :',decrypted_msg)"
   ]
  },
  {
   "cell_type": "code",
   "execution_count": null,
   "id": "8f22a488",
   "metadata": {},
   "outputs": [],
   "source": []
  },
  {
   "cell_type": "code",
   "execution_count": null,
   "id": "9715d09d",
   "metadata": {},
   "outputs": [],
   "source": []
  }
 ],
 "metadata": {
  "kernelspec": {
   "display_name": "Python 3 (ipykernel)",
   "language": "python",
   "name": "python3"
  },
  "language_info": {
   "codemirror_mode": {
    "name": "ipython",
    "version": 3
   },
   "file_extension": ".py",
   "mimetype": "text/x-python",
   "name": "python",
   "nbconvert_exporter": "python",
   "pygments_lexer": "ipython3",
   "version": "3.9.13"
  }
 },
 "nbformat": 4,
 "nbformat_minor": 5
}
