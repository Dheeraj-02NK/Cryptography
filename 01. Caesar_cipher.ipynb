{
 "cells": [
  {
   "cell_type": "markdown",
   "id": "64f6e099",
   "metadata": {},
   "source": [
    "# Caesar Cipher"
   ]
  },
  {
   "cell_type": "markdown",
   "id": "a715caa1",
   "metadata": {},
   "source": [
    "Encryption and Decryption method"
   ]
  },
  {
   "cell_type": "code",
   "execution_count": 1,
   "id": "f61f390d",
   "metadata": {},
   "outputs": [
    {
     "name": "stdout",
     "output_type": "stream",
     "text": [
      "Enter the message to be encrypted: Once, there was a boy who became bored when he watched over the village sheep grazing on the hillside. To entertain himself, he sang out, “Wolf! Wolf! The wolf is chasing the sheep!”  When the villagers heard the cry, they came running up the hill to drive the wolf away. But, when they arrived, they saw no wolf. The boy was amused when seeing their angry faces.  “Don’t scream wolf, boy,” warned the villagers, “when there is no wolf!” They angrily went back down the hill.  Later, the shepherd boy cried out once again, “Wolf! Wolf! The wolf is chasing the sheep!” To his amusement, he looked on as the villagers came running up the hill to scare the wolf away.  As they saw there was no wolf, they said strictly, “Save your frightened cry for when there really is a wolf! Don’t cry ‘wolf’ when there is no wolf!” But the boy grinned at their words while they walked grumbling down the hill once more.  Later, the boy saw a real wolf sneaking around his flock. Alarmed, he jumped on his feet and cried out as loud as he could, “Wolf! Wolf!” But the villagers thought he was fooling them again, and so they didn’t come to help.  At sunset, the villagers went looking for the boy who hadn’t returned with their sheep. When they went up the hill, they found him weeping.  “There really was a wolf here! The flock is gone! I cried out, ‘Wolf!’ but you didn’t come,” he wailed.  An old man went to comfort the boy. As he put his arm around him, he said, “Nobody believes a liar, even when he is telling the truth!”\n",
      "\n",
      "Encrypted message =>  ;O3FZ1>IF?F1,B/1B1C;~1,I;1CF3BNF1C;?FE1,IFO1IF1,B>3IFE1;.F?1>IF1.799BHF1/IFF'1H?BA7OH1;O1>IF1I799/7EFY1>;1FO>F?>B7O1I7N/F95Z1IF1/BOH1;<>Z1!,;95@1,;95@1>IF1,;9517/13IB/7OH1>IF1/IFF'@!11,IFO1>IF1.799BHF?/1IFB?E1>IF13?~Z1>IF~13BNF1?<OO7OH1<'1>IF1I7991>;1E?7.F1>IF1,;951B,B~Y1C<>Z1,IFO1>IF~1B??7.FEZ1>IF~1/B,1O;1,;95Y1>IF1C;~1,B/1BN</FE1,IFO1/FF7OH1>IF7?1BOH?~15B3F/Y11!E;O!>1/3?FBN1,;95Z1C;~Z!1,B?OFE1>IF1.799BHF?/Z1!,IFO1>IF?F17/1O;1,;95@!1>IF~1BOH?79~1,FO>1CB3L1E;,O1>IF1I799Y119B>F?Z1>IF1/IF'IF?E1C;~13?7FE1;<>1;O3F1BHB7OZ1!,;95@1,;95@1>IF1,;9517/13IB/7OH1>IF1/IFF'@!1>;1I7/1BN</FNFO>Z1IF19;;LFE1;O1B/1>IF1.799BHF?/13BNF1?<OO7OH1<'1>IF1I7991>;1/3B?F1>IF1,;951B,B~Y11B/1>IF~1/B,1>IF?F1,B/1O;1,;95Z1>IF~1/B7E1/>?73>9~Z1!/B.F1~;<?15?7HI>FOFE13?~15;?1,IFO1>IF?F1?FB99~17/1B1,;95@1E;O!>13?~1!,;95!1,IFO1>IF?F17/1O;1,;95@!1C<>1>IF1C;~1H?7OOFE1B>1>IF7?1,;?E/1,I79F1>IF~1,B9LFE1H?<NC97OH1E;,O1>IF1I7991;O3F1N;?FY119B>F?Z1>IF1C;~1/B,1B1?FB91,;951/OFBL7OH1B?;<OE1I7/159;3LY1B9B?NFEZ1IF1K<N'FE1;O1I7/15FF>1BOE13?7FE1;<>1B/19;<E1B/1IF13;<9EZ1!,;95@1,;95@!1C<>1>IF1.799BHF?/1>I;<HI>1IF1,B/15;;97OH1>IFN1BHB7OZ1BOE1/;1>IF~1E7EO!>13;NF1>;1IF9'Y11B>1/<O/F>Z1>IF1.799BHF?/1,FO>19;;L7OH15;?1>IF1C;~1,I;1IBEO!>1?F><?OFE1,7>I1>IF7?1/IFF'Y1,IFO1>IF~1,FO>1<'1>IF1I799Z1>IF~15;<OE1I7N1,FF'7OHY11!>IF?F1?FB99~1,B/1B1,;951IF?F@1>IF159;3L17/1H;OF@1713?7FE1;<>Z1!,;95@!1C<>1~;<1E7EO!>13;NFZ!1IF1,B79FEY11BO1;9E1NBO1,FO>1>;13;N5;?>1>IF1C;~Y1B/1IF1'<>1I7/1B?N1B?;<OE1I7NZ1IF1/B7EZ1!O;C;E~1CF97F.F/1B197B?Z1F.FO1,IFO1IF17/1>F997OH1>IF1>?<>I@!\n",
      "\n",
      "Decrypted message =>  ONCE, THERE WAS A BOY WHO BECAME BORED WHEN HE WATCHED OVER THE VILLAGE SHEEP GRAZING ON THE HILLSIDE. TO ENTERTAIN HIMSELF, HE SANG OUT, ~WOLF! WOLF! THE WOLF IS CHASING THE SHEEP!~  WHEN THE VILLAGERS HEARD THE CRY, THEY CAME RUNNING UP THE HILL TO DRIVE THE WOLF AWAY. BUT, WHEN THEY ARRIVED, THEY SAW NO WOLF. THE BOY WAS AMUSED WHEN SEEING THEIR ANGRY FACES.  ~DON~T SCREAM WOLF, BOY,~ WARNED THE VILLAGERS, ~WHEN THERE IS NO WOLF!~ THEY ANGRILY WENT BACK DOWN THE HILL.  LATER, THE SHEPHERD BOY CRIED OUT ONCE AGAIN, ~WOLF! WOLF! THE WOLF IS CHASING THE SHEEP!~ TO HIS AMUSEMENT, HE LOOKED ON AS THE VILLAGERS CAME RUNNING UP THE HILL TO SCARE THE WOLF AWAY.  AS THEY SAW THERE WAS NO WOLF, THEY SAID STRICTLY, ~SAVE YOUR FRIGHTENED CRY FOR WHEN THERE REALLY IS A WOLF! DON~T CRY ~WOLF~ WHEN THERE IS NO WOLF!~ BUT THE BOY GRINNED AT THEIR WORDS WHILE THEY WALKED GRUMBLING DOWN THE HILL ONCE MORE.  LATER, THE BOY SAW A REAL WOLF SNEAKING AROUND HIS FLOCK. ALARMED, HE JUMPED ON HIS FEET AND CRIED OUT AS LOUD AS HE COULD, ~WOLF! WOLF!~ BUT THE VILLAGERS THOUGHT HE WAS FOOLING THEM AGAIN, AND SO THEY DIDN~T COME TO HELP.  AT SUNSET, THE VILLAGERS WENT LOOKING FOR THE BOY WHO HADN~T RETURNED WITH THEIR SHEEP. WHEN THEY WENT UP THE HILL, THEY FOUND HIM WEEPING.  ~THERE REALLY WAS A WOLF HERE! THE FLOCK IS GONE! I CRIED OUT, ~WOLF!~ BUT YOU DIDN~T COME,~ HE WAILED.  AN OLD MAN WENT TO COMFORT THE BOY. AS HE PUT HIS ARM AROUND HIM, HE SAID, ~NOBODY BELIEVES A LIAR, EVEN WHEN HE IS TELLING THE TRUTH!~\n"
     ]
    }
   ],
   "source": [
    "Alpahbets = ' A!1B@2C#D3$E%4F^G5&H*6I(J7)K_8L-M9+N=0O:P;Q\\'R\"S?T/U>V<W.X,Y`Z~'\n",
    "Key = 3\n",
    "\n",
    "def Caesar_encrypt(plain_text):\n",
    "    cipher_text = ''\n",
    "    plain_text = plain_text.upper()\n",
    "    for c in plain_text:\n",
    "        index = Alpahbets.find(c)\n",
    "        index = (index + Key) % len(Alpahbets)\n",
    "        cipher_text = cipher_text + Alpahbets[index]\n",
    "    return cipher_text\n",
    "\n",
    "def Caesar_decryption(cipher_text):\n",
    "    plain_text = ''\n",
    "    for c in cipher_text:\n",
    "        index = Alpahbets.find(c)\n",
    "        index = (index - Key) % len(Alpahbets)\n",
    "        plain_text = plain_text + Alpahbets[index]\n",
    "    return plain_text\n",
    "\n",
    "if __name__ == '__main__':\n",
    "    w = input('Enter the message to be encrypted: ')\n",
    "    encrypted = (Caesar_encrypt(w))\n",
    "    print('\\nEncrypted message => ',encrypted)\n",
    "    decrypted = Caesar_decryption(encrypted)\n",
    "    print('\\nDecrypted message => ',decrypted)\n",
    "        "
   ]
  },
  {
   "cell_type": "code",
   "execution_count": null,
   "id": "e7e385a1",
   "metadata": {},
   "outputs": [],
   "source": []
  },
  {
   "cell_type": "code",
   "execution_count": null,
   "id": "92b4145f",
   "metadata": {},
   "outputs": [],
   "source": []
  }
 ],
 "metadata": {
  "kernelspec": {
   "display_name": "Python 3 (ipykernel)",
   "language": "python",
   "name": "python3"
  },
  "language_info": {
   "codemirror_mode": {
    "name": "ipython",
    "version": 3
   },
   "file_extension": ".py",
   "mimetype": "text/x-python",
   "name": "python",
   "nbconvert_exporter": "python",
   "pygments_lexer": "ipython3",
   "version": "3.9.13"
  }
 },
 "nbformat": 4,
 "nbformat_minor": 5
}
