{
 "cells": [
  {
   "cell_type": "code",
   "execution_count": 13,
   "id": "fd1f429d",
   "metadata": {},
   "outputs": [
    {
     "ename": "ModuleNotFoundError",
     "evalue": "No module named 'Crypto'",
     "output_type": "error",
     "traceback": [
      "\u001b[1;31m---------------------------------------------------------------------------\u001b[0m",
      "\u001b[1;31mModuleNotFoundError\u001b[0m                       Traceback (most recent call last)",
      "\u001b[1;32m~\\AppData\\Local\\Temp\\ipykernel_12272\\2832778018.py\u001b[0m in \u001b[0;36m<module>\u001b[1;34m\u001b[0m\n\u001b[1;32m----> 1\u001b[1;33m \u001b[1;32mfrom\u001b[0m \u001b[0mCrypto\u001b[0m\u001b[1;33m.\u001b[0m\u001b[0mCipher\u001b[0m \u001b[1;32mimport\u001b[0m \u001b[0mDES\u001b[0m\u001b[1;33m\u001b[0m\u001b[1;33m\u001b[0m\u001b[0m\n\u001b[0m\u001b[0;32m      2\u001b[0m \u001b[1;33m\u001b[0m\u001b[0m\n\u001b[0;32m      3\u001b[0m \u001b[1;32mdef\u001b[0m \u001b[0madd_padding\u001b[0m\u001b[1;33m(\u001b[0m\u001b[0mtext\u001b[0m\u001b[1;33m,\u001b[0m\u001b[0mblocksize\u001b[0m\u001b[1;33m=\u001b[0m\u001b[1;36m64\u001b[0m\u001b[1;33m)\u001b[0m\u001b[1;33m:\u001b[0m\u001b[1;33m\u001b[0m\u001b[1;33m\u001b[0m\u001b[0m\n\u001b[0;32m      4\u001b[0m     \u001b[0mpad_len\u001b[0m \u001b[1;33m=\u001b[0m \u001b[0mblocksize\u001b[0m \u001b[1;33m-\u001b[0m \u001b[1;33m(\u001b[0m\u001b[0mlen\u001b[0m\u001b[1;33m(\u001b[0m\u001b[0mtext\u001b[0m\u001b[1;33m)\u001b[0m \u001b[1;33m%\u001b[0m \u001b[0mblocksize\u001b[0m\u001b[1;33m)\u001b[0m\u001b[1;33m\u001b[0m\u001b[1;33m\u001b[0m\u001b[0m\n\u001b[0;32m      5\u001b[0m     \u001b[0mpadding\u001b[0m \u001b[1;33m=\u001b[0m \u001b[1;34m'$'\u001b[0m \u001b[1;33m*\u001b[0m \u001b[0mpad_len\u001b[0m\u001b[1;33m\u001b[0m\u001b[1;33m\u001b[0m\u001b[0m\n",
      "\u001b[1;31mModuleNotFoundError\u001b[0m: No module named 'Crypto'"
     ]
    }
   ],
   "source": [
    "from Crypto.Cipher import DES\n",
    "\n",
    "def add_padding(text,blocksize=64):\n",
    "    pad_len = blocksize - (len(text) % blocksize)\n",
    "    padding = '$' * pad_len\n",
    "    return text + padding\n",
    "\n",
    "def remove_padding(text,blocksize=64):\n",
    "    counter = 0\n",
    "    for c in text[::-1]:\n",
    "        if c == '$':\n",
    "            counter += 1\n",
    "        else:\n",
    "            break\n",
    "    return str[:-counter]\n",
    "\n",
    "\n",
    "def encrypt(plain_text, key):\n",
    "    des = DES.new(key, DES.MODE_ECB)\n",
    "    return des.encrypt(plain_text)\n",
    "\n",
    "def decrypt(cipher_text, key):\n",
    "    des = DES.new(key, DES.MODE_ECB)\n",
    "    return des.decrypt(cipher_text).decode('UTF-8')\n",
    "\n",
    "if __name__ == '__main__':\n",
    "    plain_text = input(\"Enter the message: \")\n",
    "    key = input('Enter the key: ')\n",
    "    plain_text = add_padding(plain_text)\n",
    "    cipher_text = encrypt(plain_text,key)\n",
    "    print('Encrypted message: ',cipher_text)\n",
    "    decrypt_msg = decrypt(cipher_text,key)\n",
    "    print('Decryptrd message: ',decrypt_msg)\n"
   ]
  },
  {
   "cell_type": "code",
   "execution_count": null,
   "id": "f136871b",
   "metadata": {},
   "outputs": [],
   "source": []
  },
  {
   "cell_type": "code",
   "execution_count": null,
   "id": "b9297e54",
   "metadata": {},
   "outputs": [],
   "source": []
  }
 ],
 "metadata": {
  "kernelspec": {
   "display_name": "Python 3 (ipykernel)",
   "language": "python",
   "name": "python3"
  },
  "language_info": {
   "codemirror_mode": {
    "name": "ipython",
    "version": 3
   },
   "file_extension": ".py",
   "mimetype": "text/x-python",
   "name": "python",
   "nbconvert_exporter": "python",
   "pygments_lexer": "ipython3",
   "version": "3.9.13"
  }
 },
 "nbformat": 4,
 "nbformat_minor": 5
}
