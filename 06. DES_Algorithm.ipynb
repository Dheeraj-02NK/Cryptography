{
 "cells": [
  {
   "cell_type": "code",
   "execution_count": null,
   "id": "fd1f429d",
   "metadata": {},
   "outputs": [],
   "source": [
    "from Crypto.Cipher import DES\n",
    "\n",
    "def add_padding(text,blocksize=64):\n",
    "    pad_len = blocksize - (len(text) % blocksize)\n",
    "    padding = '$' * pad_len\n",
    "    return text + padding\n",
    "\n",
    "def remove_padding(text,blocksize=64):\n",
    "    counter = 0\n",
    "    for c in text[::-1]:\n",
    "        if c == '$':\n",
    "            counter += 1\n",
    "        else:\n",
    "            break\n",
    "    return str[:-counter]\n",
    "\n",
    "\n",
    "def encrypt(plain_text, key):\n",
    "    des = DES.new(key, DES.MODE_ECB)\n",
    "    return des.encrypt(plain_text)\n",
    "\n",
    "def decrypt(cipher_text, key):\n",
    "    des = DES.new(key, DES.MODE_ECB)\n",
    "    return des.decrypt(cipher_text).decode('UTF-8')\n",
    "\n",
    "if __name__ == '__main__':\n",
    "    plain_text = input(\"Enter the message: \")\n",
    "    key = input('Enter the key: ')\n",
    "    plain_text = add_padding(plain_text)\n",
    "    cipher_text = encrypt(plain_text,key)\n",
    "    print('Encrypted message: ',cipher_text)\n",
    "    decrypt_msg = decrypt(cipher_text,key)\n",
    "    print('Decryptrd message: ',decrypt_msg)\n"
   ]
  }
 ],
 "metadata": {
  "kernelspec": {
   "display_name": "Python 3 (ipykernel)",
   "language": "python",
   "name": "python3"
  },
  "language_info": {
   "codemirror_mode": {
    "name": "ipython",
    "version": 3
   },
   "file_extension": ".py",
   "mimetype": "text/x-python",
   "name": "python",
   "nbconvert_exporter": "python",
   "pygments_lexer": "ipython3",
   "version": "3.9.13"
  }
 },
 "nbformat": 4,
 "nbformat_minor": 5
}
