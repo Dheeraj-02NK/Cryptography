{
 "cells": [
  {
   "cell_type": "code",
   "execution_count": 2,
   "id": "50502264",
   "metadata": {},
   "outputs": [
    {
     "name": "stdout",
     "output_type": "stream",
     "text": [
      "Enter a message: Jai Shree Ram, Jai Mahakal\n",
      "\n",
      "Binary:  b'OV\\x9a\\x16\\x16&\\xde\\x00@\\x97\\xce\\x16\\x9d\\x9c\\x87\\xb9\\xe38\\xbc)\\xb9A\\xb6\\xa7\\x987\\xf3j99\\xf3\\x13,9\\xd2o\\xe7\\xa5.N\\x148\\xba\\xc7:Wz+\\xa1\\xd5\\x15\\xd0\\xf0a\\x14\\xa1\\xfa2Q\\xcbr\\x16PQ'\n",
      "\n",
      "Hexadecimal:  4f569a161626de004097ce169d9c87b9e338bc29b941b6a79837f36a3939f3132c39d26fe7a52e4e1438bac73a577a2ba1d515d0f06114a1fa3251cb72165051\n"
     ]
    }
   ],
   "source": [
    "from hashlib import sha512\n",
    "\n",
    "message =  input('Enter a message: ')\n",
    "result = sha512(message.encode())\n",
    "\n",
    "print('\\nBinary: ',result.digest())\n",
    "print('\\nHexadecimal: ',result.hexdigest())"
   ]
  },
  {
   "cell_type": "code",
   "execution_count": null,
   "id": "f070b680",
   "metadata": {},
   "outputs": [],
   "source": []
  }
 ],
 "metadata": {
  "kernelspec": {
   "display_name": "Python 3 (ipykernel)",
   "language": "python",
   "name": "python3"
  },
  "language_info": {
   "codemirror_mode": {
    "name": "ipython",
    "version": 3
   },
   "file_extension": ".py",
   "mimetype": "text/x-python",
   "name": "python",
   "nbconvert_exporter": "python",
   "pygments_lexer": "ipython3",
   "version": "3.9.13"
  }
 },
 "nbformat": 4,
 "nbformat_minor": 5
}
