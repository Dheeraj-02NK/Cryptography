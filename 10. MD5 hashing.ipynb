{
 "cells": [
  {
   "cell_type": "code",
   "execution_count": 5,
   "id": "a6601491",
   "metadata": {},
   "outputs": [
    {
     "name": "stdout",
     "output_type": "stream",
     "text": [
      "Enter the message: Jai Shree Ram, Jai Mahakal\n",
      "\n",
      "binary:  b'x\\xe71\\x02}\\x8f\\xd5\\x0e\\xd6B4\\x0b|\\x9ac\\xb3'\n",
      "Hexadecimal:  78e731027d8fd50ed642340b7c9a63b3\n"
     ]
    }
   ],
   "source": [
    "from hashlib import md5\n",
    "\n",
    "message = input('Enter the message: ')\n",
    "result = md5(b'message')\n",
    "\n",
    "print('\\nbinary: ',result.digest())\n",
    "print('Hexadecimal: ',result.hexdigest())"
   ]
  },
  {
   "cell_type": "code",
   "execution_count": null,
   "id": "0fe36763",
   "metadata": {},
   "outputs": [],
   "source": []
  }
 ],
 "metadata": {
  "kernelspec": {
   "display_name": "Python 3 (ipykernel)",
   "language": "python",
   "name": "python3"
  },
  "language_info": {
   "codemirror_mode": {
    "name": "ipython",
    "version": 3
   },
   "file_extension": ".py",
   "mimetype": "text/x-python",
   "name": "python",
   "nbconvert_exporter": "python",
   "pygments_lexer": "ipython3",
   "version": "3.9.13"
  }
 },
 "nbformat": 4,
 "nbformat_minor": 5
}
