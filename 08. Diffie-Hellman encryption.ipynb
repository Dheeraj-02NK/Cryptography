{
 "cells": [
  {
   "cell_type": "code",
   "execution_count": 3,
   "id": "3f091cfa",
   "metadata": {},
   "outputs": [
    {
     "name": "stdout",
     "output_type": "stream",
     "text": [
      "Enter a message to encrypt: Dheeraj n kashyap\n",
      "         Original message:  Dheeraj n kashyap\n",
      "         Encrypted message:  Uyvvr{11|ryr\n"
     ]
    }
   ],
   "source": [
    "import random\n",
    "\n",
    "def generate_private_key(n, g):\n",
    "    x = random.randint(1, n)\n",
    "    y = random.randint(1, n)\n",
    "\n",
    "    k1 = pow(g, x, n)\n",
    "    k2 = pow(g, y, n)\n",
    "\n",
    "    return (k1, k2, x, y)\n",
    "\n",
    "def encrypt_message(message, k):\n",
    "    encrypted = ''\n",
    "    for c in message:\n",
    "        encrypted += chr(ord(c) + k)\n",
    "    return encrypted\n",
    "\n",
    "if __name__ == '__main__':\n",
    "    n = 37\n",
    "    g = 13\n",
    "    k1, k2, x, y = generate_private_key(n, g)\n",
    "    message = input(\"Enter a message to encrypt: \")\n",
    "    encrypted_message = encrypt_message(message, k1)\n",
    "    print(\"Original message: \", message)\n",
    "    print(\"Encrypted message: \", encrypted_message)"
   ]
  }
 ],
 "metadata": {
  "kernelspec": {
   "display_name": "Python 3 (ipykernel)",
   "language": "python",
   "name": "python3"
  },
  "language_info": {
   "codemirror_mode": {
    "name": "ipython",
    "version": 3
   },
   "file_extension": ".py",
   "mimetype": "text/x-python",
   "name": "python",
   "nbconvert_exporter": "python",
   "pygments_lexer": "ipython3",
   "version": "3.9.13"
  }
 },
 "nbformat": 4,
 "nbformat_minor": 5
}
