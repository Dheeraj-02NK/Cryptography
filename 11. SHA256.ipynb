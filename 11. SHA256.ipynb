{
 "cells": [
  {
   "cell_type": "code",
   "execution_count": 1,
   "id": "09143bdc",
   "metadata": {
    "scrolled": false
   },
   "outputs": [
    {
     "name": "stdout",
     "output_type": "stream",
     "text": [
      "Enter a message: Jai Shree Ram, Jai Mahakal\n",
      "\n",
      "Binary:  b\"J\\xadN?\\x93+9z\\xef\\x02\\x92'\\x7fm\\xe1\\xc7O1\\x08\\x0e&8n\\xcfZ\\xe14?\\xfcL1e\"\n",
      "Hexadecimal:  4aad4e3f932b397aef0292277f6de1c74f31080e26386ecf5ae1343ffc4c3165\n"
     ]
    }
   ],
   "source": [
    "from hashlib import sha256\n",
    "\n",
    "message =  input('Enter a message: ')\n",
    "result = sha256(message.encode())\n",
    "\n",
    "print('\\nBinary: ',result.digest())\n",
    "print('Hexadecimal: ',result.hexdigest())"
   ]
  }
 ],
 "metadata": {
  "kernelspec": {
   "display_name": "Python 3 (ipykernel)",
   "language": "python",
   "name": "python3"
  },
  "language_info": {
   "codemirror_mode": {
    "name": "ipython",
    "version": 3
   },
   "file_extension": ".py",
   "mimetype": "text/x-python",
   "name": "python",
   "nbconvert_exporter": "python",
   "pygments_lexer": "ipython3",
   "version": "3.9.13"
  }
 },
 "nbformat": 4,
 "nbformat_minor": 5
}
