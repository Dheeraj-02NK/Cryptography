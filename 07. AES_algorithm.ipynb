{
 "cells": [
  {
   "cell_type": "code",
   "execution_count": 1,
   "id": "10b17584",
   "metadata": {},
   "outputs": [
    {
     "name": "stdout",
     "output_type": "stream",
     "text": [
      "Collecting PyCryptor\n",
      "  Using cached PyCryptor-0.1.3-py3-none-any.whl (8.2 kB)\n",
      "Collecting rich\n",
      "  Using cached rich-13.3.3-py3-none-any.whl (238 kB)\n",
      "Collecting pycryptodome\n",
      "  Using cached pycryptodome-3.17-cp35-abi3-win_amd64.whl (1.7 MB)\n",
      "Collecting markdown-it-py<3.0.0,>=2.2.0\n",
      "  Using cached markdown_it_py-2.2.0-py3-none-any.whl (84 kB)\n",
      "Collecting pygments<3.0.0,>=2.13.0\n",
      "  Using cached Pygments-2.14.0-py3-none-any.whl (1.1 MB)\n",
      "Collecting mdurl~=0.1\n",
      "  Using cached mdurl-0.1.2-py3-none-any.whl (10.0 kB)\n",
      "Installing collected packages: pygments, pycryptodome, mdurl, markdown-it-py, rich, PyCryptor\n",
      "  Attempting uninstall: pygments\n",
      "    Found existing installation: Pygments 2.11.2\n",
      "    Uninstalling Pygments-2.11.2:\n",
      "      Successfully uninstalled Pygments-2.11.2\n",
      "Successfully installed PyCryptor-0.1.3 markdown-it-py-2.2.0 mdurl-0.1.2 pycryptodome-3.17 pygments-2.14.0 rich-13.3.3\n"
     ]
    },
    {
     "name": "stderr",
     "output_type": "stream",
     "text": [
      "ERROR: pip's dependency resolver does not currently take into account all the packages that are installed. This behaviour is the source of the following dependency conflicts.\n",
      "spyder 5.2.2 requires pyqt5<5.13, which is not installed.\n",
      "spyder 5.2.2 requires pyqtwebengine<5.13, which is not installed.\n"
     ]
    }
   ],
   "source": [
    "!pip install PyCryptor"
   ]
  },
  {
   "cell_type": "code",
   "execution_count": 3,
   "id": "f9d222cb",
   "metadata": {
    "scrolled": false
   },
   "outputs": [
    {
     "name": "stdout",
     "output_type": "stream",
     "text": [
      "Enter the message: bsduygih srgyufsoeuif ugfisyrguiasfe gtyeifuysfiaseg fouygfy9rf\n",
      "Enter the key: bhdfgosjdf\n",
      "\n",
      "Encrypted message:  LkURiV5rabneF1OujOiYqhO+ouMiNcBdv10Z9AwqV7eew6ux39CTHbshAOLXrK8H9NLjn9Kl4onAxxQv2eP3gaEfhwbBRgdrbixajNP7xtc=\n",
      "\n",
      "Decrypted message:  bsduygih srgyufsoeuif ugfisyrguiasfe gtyeifuysfiaseg fouygfy9rf\n"
     ]
    }
   ],
   "source": [
    "import hashlib\n",
    "from Crypto import Random\n",
    "from Crypto.Cipher import AES\n",
    "from base64 import b64encode, b64decode \n",
    "\n",
    "class AESCipher:\n",
    "    def __init__(self,key):\n",
    "        self.block_size = AES.block_size\n",
    "        self.key = hashlib.sha256(key.encode()).digest()\n",
    "\n",
    "    def add_padding(self,plain_text):\n",
    "        bytes_to_pad = self.block_size - len(plain_text) % self.block_size\n",
    "        ascii_string = chr(bytes_to_pad)\n",
    "        padding_string  = ascii_string * bytes_to_pad\n",
    "        return plain_text + padding_string\n",
    "  \n",
    "    def remove_padding(self,txt):\n",
    "        last_character = txt[len(txt) - 1:]\n",
    "        return txt[:-ord(last_character)]\n",
    "\n",
    "    def encrypt(self, plain_text):\n",
    "        plain_text = self.add_padding(plain_text)\n",
    "        iv = Random.new().read(self.block_size)\n",
    "        cipher = AES.new(self.key, AES.MODE_CBC, iv)\n",
    "        encrypted_text = cipher.encrypt(plain_text.encode())\n",
    "        return b64encode(iv+encrypted_text).decode('utf-8')\n",
    "\n",
    "    def decrypt(self, encrypted_text):\n",
    "        encrypted_text = b64decode(encrypted_text)\n",
    "        iv = encrypted_text[:self.block_size]\n",
    "        cipher = AES.new(self.key, AES.MODE_CBC, iv)\n",
    "        plain_text = cipher.decrypt(encrypted_text[self.block_size:]).decode('utf-8')\n",
    "        return self.remove_padding(plain_text)\n",
    "\n",
    "if __name__ == '__main__':\n",
    "\n",
    "    message = input('Enter the message: ')\n",
    "    key = input(\"Enter the key: \")\n",
    "    aes = AESCipher(key)\n",
    "    encrypted = aes.encrypt(message)\n",
    "    print('\\nEncrypted message: ',encrypted)\n",
    "    decrypted = aes.decrypt(encrypted)\n",
    "    print('\\nDecrypted message: ',decrypted)"
   ]
  },
  {
   "cell_type": "code",
   "execution_count": null,
   "id": "ec2336b8",
   "metadata": {},
   "outputs": [],
   "source": []
  }
 ],
 "metadata": {
  "kernelspec": {
   "display_name": "Python 3 (ipykernel)",
   "language": "python",
   "name": "python3"
  },
  "language_info": {
   "codemirror_mode": {
    "name": "ipython",
    "version": 3
   },
   "file_extension": ".py",
   "mimetype": "text/x-python",
   "name": "python",
   "nbconvert_exporter": "python",
   "pygments_lexer": "ipython3",
   "version": "3.9.13"
  }
 },
 "nbformat": 4,
 "nbformat_minor": 5
}
