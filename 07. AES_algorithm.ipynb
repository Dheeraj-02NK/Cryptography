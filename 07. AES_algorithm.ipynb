{
 "cells": [
  {
   "cell_type": "code",
   "execution_count": null,
   "id": "10b17584",
   "metadata": {},
   "outputs": [],
   "source": [
    "import hashlib\n",
    "from Crypto import Random\n",
    "from Crypto.Cipher import AES\n",
    "from base64 import b64encode, b64decode \n",
    "\n",
    "class AESCipher:\n",
    "    def __init__(self,key):\n",
    "        self.block_size = AES.block_size\n",
    "        self.key = hashlib.sha256(key.encode()).digest()\n",
    "\n",
    "    def add_padding(self,plain_text):\n",
    "        bytes_to_pad = self.block_size - len(plain_text) % self.block_size\n",
    "        ascii_string = chr(bytes_to_pad)\n",
    "        padding_string  = ascii_string * bytes_to_pad\n",
    "        return plain_text + padding_string\n",
    "  \n",
    "    def remove_padding(self,txt):\n",
    "        last_character = txt[len(txt) - 1:]\n",
    "        return txt[:-ord(last_character)]\n",
    "\n",
    "    def encrypt(self, plain_text):\n",
    "        plain_text = self.add_padding(plain_text)\n",
    "        iv = Random.new().read(self.block_size)\n",
    "        cipher = AES.new(self.key, AES.MODE_CBC, iv)\n",
    "        encrypted_text = cipher.encrypt(plain_text.encode())\n",
    "        return b64encode(iv+encrypted_text).decode('utf-8')\n",
    "\n",
    "    def decrypt(self, encrypted_text):\n",
    "        encrypted_text = b64decode(encrypted_text)\n",
    "        iv = encrypted_text[:self.block_size]\n",
    "        cipher = AES.new(self.key, AES.MODE_CBC, iv)\n",
    "        plain_text = cipher.decrypt(encrypted_text[self.block_size:]).decode('utf-8')\n",
    "        return self.remove_padding(plain_text)\n",
    "\n",
    "if __name__ == '__main__':\n",
    "\n",
    "    message = input('Enter the message: ')\n",
    "    key = input(\"Enter the key: \")\n",
    "    aes = AESCipher(key)\n",
    "    encrypted = aes.encrypt(message)\n",
    "    print('Encrypted message: ',encrypted)\n",
    "    decrypted = aes.decrypt(encrypted)\n",
    "    print('Decrypted message: ',decrypted)"
   ]
  }
 ],
 "metadata": {
  "kernelspec": {
   "display_name": "Python 3 (ipykernel)",
   "language": "python",
   "name": "python3"
  },
  "language_info": {
   "codemirror_mode": {
    "name": "ipython",
    "version": 3
   },
   "file_extension": ".py",
   "mimetype": "text/x-python",
   "name": "python",
   "nbconvert_exporter": "python",
   "pygments_lexer": "ipython3",
   "version": "3.9.13"
  }
 },
 "nbformat": 4,
 "nbformat_minor": 5
}
