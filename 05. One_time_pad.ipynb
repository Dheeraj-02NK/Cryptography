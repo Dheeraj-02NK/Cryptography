{
 "cells": [
  {
   "cell_type": "code",
   "execution_count": 6,
   "id": "8dcdea19",
   "metadata": {
    "scrolled": false
   },
   "outputs": [
    {
     "name": "stdout",
     "output_type": "stream",
     "text": [
      "Enter the message: Once, there was a boy who became bored when he watched over the village sheep grazing on the hillside. To entertain himself, he sang out, “Wolf! Wolf! The wolf is chasing the sheep!”  When the villagers heard the cry, they came running up the hill to drive the wolf away. But, when they arrived, they saw no wolf. The boy was amused when seeing their angry faces.  “Don’t scream wolf, boy,” warned the villagers, “when there is no wolf!” They angrily went back down the hill.  Later, the shepherd boy cried out once again, “Wolf! Wolf! The wolf is chasing the sheep!” To his amusement, he looked on as the villagers came running up the hill to scare the wolf away.  As they saw there was no wolf, they said strictly, “Save your frightened cry for when there really is a wolf! Don’t cry ‘wolf’ when there is no wolf!” But the boy grinned at their words while they walked grumbling down the hill once more.  Later, the boy saw a real wolf sneaking around his flock. Alarmed, he jumped on his feet and cried out as loud as he could, “Wolf! Wolf!” But the villagers thought he was fooling them again, and so they didn’t come to help.  At sunset, the villagers went looking for the boy who hadn’t returned with their sheep. When they went up the hill, they found him weeping.  “There really was a wolf here! The flock is gone! I cried out, ‘Wolf!’ but you didn’t come,” he wailed.  An old man went to comfort the boy. As he put his arm around him, he said, “Nobody believes a liar, even when he is telling the truth!”\n",
      "[18, 55, 63, 21, 61, 48, 33, 60, 44, 28, 13, 16, 7, 50, 31, 48, 39, 1, 7, 58, 36, 24, 12, 47, 62, 32, 56, 22, 14, 1, 59, 20, 6, 63, 57, 35, 9, 44, 40, 19, 50, 1, 1, 61, 60, 15, 62, 50, 0, 41, 35, 12, 28, 27, 52, 61, 39, 55, 19, 9, 52, 20, 26, 37, 4, 21, 38, 36, 59, 50, 55, 61, 39, 59, 56, 11, 24, 11, 60, 54, 13, 13, 3, 36, 37, 21, 36, 38, 59, 10, 55, 2, 60, 32, 36, 10, 42, 26, 26, 34, 20, 52, 9, 47, 54, 30, 61, 21, 37, 33, 29, 54, 2, 45, 58, 53, 46, 36, 16, 15, 36, 60, 37, 60, 62, 59, 23, 2, 35, 20, 61, 37, 11, 49, 8, 24, 34, 17, 24, 61, 43, 3, 1, 17, 1, 61, 28, 28, 1, 10, 44, 13, 29, 41, 37, 55, 18, 22, 49, 51, 53, 50, 29, 7, 34, 30, 6, 17, 61, 34, 43, 23, 39, 63, 24, 5, 3, 2, 54, 50, 27, 33, 24, 59, 30, 45, 35, 17, 11, 58, 6, 19, 1, 3, 16, 19, 30, 39, 1, 33, 29, 56, 47, 56, 23, 34, 12, 51, 19, 47, 37, 35, 24, 18, 4, 61, 56, 2, 3, 53, 61, 58, 2, 10, 55, 18, 40, 24, 32, 53, 15, 53, 34, 23, 46, 20, 23, 34, 34, 15, 20, 38, 6, 31, 22, 36, 41, 48, 37, 52, 9, 31, 55, 40, 0, 22, 7, 15, 61, 52, 55, 28, 58, 34, 9, 52, 7, 1, 11, 44, 29, 43, 14, 57, 50, 46, 28, 62, 16, 54, 13, 44, 24, 34, 19, 40, 40, 36, 62, 12, 2, 11, 48, 59, 54, 53, 58, 18, 13, 22, 40, 34, 26, 45, 34, 0, 36, 55, 45, 62, 23, 8, 2, 11, 14, 9, 40, 19, 24, 49, 37, 52, 60, 61, 19, 51, 62, 52, 31, 43, 6, 4, 43, 58, 48, 21, 10, 17, 45, 7, 33, 55, 13, 55, 30, 47, 49, 31, 49, 1, 30, 14, 8, 18, 7, 30, 46, 58, 17, 21, 57, 62, 57, 46, 2, 27, 50, 19, 2, 50, 59, 45, 30, 13, 24, 28, 37, 19, 44, 52, 49, 33, 39, 50, 28, 46, 10, 38, 4, 48, 16, 30, 39, 9, 19, 44, 57, 62, 28, 5, 42, 20, 43, 28, 52, 44, 14, 4, 45, 37, 42, 48, 3, 9, 59, 24, 21, 18, 61, 55, 24, 42, 6, 2, 44, 55, 60, 17, 12, 48, 2, 42, 4, 39, 16, 52, 25, 16, 55, 40, 52, 14, 9, 42, 9, 57, 3, 61, 4, 62, 33, 4, 13, 60, 54, 40, 44, 42, 4, 28, 52, 3, 28, 46, 15, 42, 28, 42, 55, 39, 37, 37, 25, 5, 40, 2, 58, 52, 62, 14, 32, 5, 53, 46, 37, 15, 54, 36, 6, 39, 18, 38, 18, 54, 16, 27, 56, 30, 37, 18, 22, 43, 13, 35, 39, 50, 38, 0, 27, 55, 44, 14, 16, 56, 26, 58, 23, 40, 36, 22, 26, 34, 60, 51, 40, 20, 17, 28, 0, 1, 34, 30, 34, 49, 10, 44, 46, 13, 36, 40, 32, 58, 30, 10, 36, 50, 7, 2, 33, 38, 48, 32, 60, 55, 51, 29, 5, 5, 45, 5, 43, 45, 39, 31, 10, 48, 62, 40, 17, 9, 7, 49, 1, 35, 0, 11, 43, 20, 17, 17, 53, 47, 19, 28, 46, 58, 5, 45, 49, 35, 2, 51, 15, 40, 41, 22, 48, 15, 11, 60, 45, 61, 34, 32, 48, 11, 18, 13, 33, 37, 29, 7, 60, 0, 10, 14, 22, 14, 19, 2, 20, 63, 12, 21, 1, 44, 36, 12, 32, 8, 54, 26, 23, 25, 38, 47, 19, 55, 18, 58, 15, 20, 22, 54, 26, 33, 63, 28, 40, 23, 6, 49, 52, 63, 15, 14, 7, 24, 15, 38, 14, 63, 56, 32, 20, 61, 22, 10, 22, 7, 58, 55, 33, 45, 18, 32, 1, 40, 39, 0, 20, 50, 12, 21, 0, 29, 18, 48, 33, 35, 62, 2, 35, 12, 6, 63, 27, 60, 60, 11, 35, 3, 29, 51, 10, 4, 18, 54, 58, 53, 57, 39, 59, 20, 51, 28, 62, 22, 58, 24, 3, 59, 49, 30, 0, 33, 58, 9, 40, 40, 14, 35, 45, 13, 2, 24, 43, 20, 18, 62, 37, 45, 4, 11, 18, 25, 0, 7, 9, 15, 35, 60, 19, 12, 22, 29, 43, 17, 41, 11, 12, 28, 10, 17, 43, 25, 34, 6, 26, 41, 53, 42, 55, 49, 26, 22, 54, 1, 55, 58, 32, 63, 13, 60, 40, 14, 54, 61, 59, 53, 37, 40, 41, 29, 61, 35, 39, 17, 15, 38, 16, 21, 61, 57, 50, 42, 3, 7, 60, 6, 7, 4, 59, 56, 21, 58, 41, 63, 25, 22, 33, 54, 19, 44, 5, 46, 6, 37, 44, 12, 26, 30, 7, 49, 23, 4, 44, 43, 33, 29, 37, 34, 24, 63, 59, 63, 34, 35, 31, 4, 60, 59, 40, 47, 30, 24, 25, 62, 27, 50, 47, 26, 24, 51, 32, 43, 51, 46, 33, 34, 3, 13, 40, 54, 39, 27, 63, 24, 2, 29, 46, 27, 63, 1, 48, 40, 57, 17, 20, 59, 38, 48, 0, 33, 47, 11, 26, 55, 28, 40, 23, 59, 33, 38, 15, 59, 26, 51, 27, 27, 10, 35, 32, 7, 47, 23, 61, 3, 31, 15, 49, 44, 25, 23, 16, 10, 54, 59, 9, 11, 16, 39, 26, 35, 26, 24, 41, 10, 24, 17, 61, 38, 12, 5, 34, 28, 9, 21, 7, 45, 2, 47, 32, 53, 5, 11, 28, 19, 4, 52, 37, 56, 19, 30, 27, 13, 28, 39, 18, 25, 6, 32, 49, 40, 58, 4, 2, 18, 3, 58, 12, 40, 50, 26, 9, 38, 56, 23, 19, 14, 30, 25, 21, 34, 10, 46, 5, 6, 24, 24, 23, 45, 1, 56, 19, 57, 35, 54, 18, 24, 6, 37, 38, 35, 46, 37, 41, 20, 48, 52, 35, 5, 47, 2, 5, 4, 60, 14, 47, 49, 33, 16, 45, 17, 15, 28, 14, 1, 48, 58, 56, 0, 5, 31, 51, 9, 5, 18, 30, 1, 56, 0, 22, 36, 6, 0, 31, 29, 40, 55, 45, 11, 31, 35, 7, 25, 24, 13, 23, 18, 2, 54, 41, 36, 0, 46, 51, 27, 16, 26, 49, 58, 13, 6, 1, 41, 30, 47, 53, 9, 42, 47, 59, 12, 0, 44, 63, 25, 9, 34, 16, 17, 47, 26, 60, 26, 3, 51, 15, 54, 2, 1, 63, 33, 63, 18, 1, 54, 57, 35, 23, 10, 26, 22, 57, 0, 14, 18, 54, 59, 25, 12, 46, 63, 62, 45, 34, 13, 21, 46, 26, 0, 32, 9, 20, 43, 15, 31, 43, 11, 21, 54, 16, 6, 3, 21, 21, 58, 2, 21, 10, 6, 47, 15, 44, 2, 35, 23, 30, 11, 6, 24, 24, 48, 11, 32, 47, 37, 20, 53, 26, 28, 56, 16, 15, 6, 23, 2, 33, 6, 13, 10, 50, 14, 42, 7, 37, 22, 40, 17, 0, 28, 22, 5, 49, 17, 37, 19, 16, 59, 41, 11, 61, 4, 9, 21, 24, 40, 56, 28, 2, 23, 15, 63, 17, 46, 50, 51, 10, 40, 40, 39, 54, 8, 36, 2, 8, 51, 5, 3, 25, 10, 41, 25, 4, 48, 11, 32, 7, 52, 52, 46, 26, 31, 59, 24, 59, 50, 58, 44, 7, 7, 26, 58, 36, 31, 9, 55, 32, 20, 61, 48, 5, 6, 61, 29, 53, 18, 13, 26, 16, 14, 21, 5, 46, 46, 42, 31, 29, 9, 39, 44, 32, 29, 35, 48, 56, 34, 24, 24, 4, 39, 24, 10, 18, 18, 60, 1, 15, 59, 7, 6, 7, 10, 24, 41, 6, 10, 61, 21, 18, 33, 39, 24, 30, 37, 23, 25, 8, 55, 35, 37, 56, 30, 17, 9, 10, 61, 20, 52, 1, 46, 16, 54, 6, 24, 21, 60, 3, 49, 12, 56, 1, 46, 37, 32, 6, 3, 20, 23, 44, 36, 15, 19, 4, 28, 3, 41, 62, 60, 28, 21, 60, 36, 17, 30, 35, 0, 31, 15, 8, 21, 20, 61, 53, 2, 49, 20, 46, 46, 23, 42, 57, 41, 10, 53, 12, 62, 48, 12, 17, 37, 21, 3, 14, 9, 35, 1, 50, 30, 2, 33, 4, 25, 0, 48, 39, 14, 12, 14, 44, 49, 5, 20, 55, 45, 4, 39, 4, 50, 9, 13, 29, 9, 27, 6, 38, 50, 42, 40, 27, 55, 43, 18, 23, 51, 10, 8, 18, 19, 53, 21, 12, 57, 51, 25, 11, 37, 61, 36, 35, 28, 45, 36, 47, 11, 14, 7, 10, 20, 58, 24, 53, 6, 6, 47, 48, 46, 31, 12, 20, 58, 39, 24, 51, 46, 17, 14, 0, 28, 19, 0, 52, 35, 48, 31, 30, 22, 17, 44, 3, 29, 39, 27, 2, 37, 53, 32, 7, 30, 38, 25]\n",
      "\n",
      "Encrypted message:  XKCM.?&G.3J^~UF?:A$9-(BB0-`9*!_-2BMG*V:$C%=ZG)~;A);-:N>=_BAD0:0=X'2B`BBZI^@I!$4N4$7D<*E$YYE4`>YP33TQ-RDM883XIR$:1@LV1YT~?K>W~^+!&*9<$JY3_GIV&9^&AVBY^E'~TV=SXVAU%9_4<LV:9UQDYE(>I41K_-(Y6!SV$'7LA.O/Z:5R$:S%++X`&MXS(JTXU!>33<!G.U>(4PU7XY H$E9A:/2URBD?IKD:= V9CA5AWH9!(>#.E:6Q5RNPK<N1T'3<LN:='XJA`@TV'0J5:5)=9NEW=0<I,$ _>&KJM>>~1U 6&)5%Q/@M\"G_&RFTD8M2QD\"8F'+>7\"35K2\"/\"!7Y,0TRR4H2:0>''JA<RK/T9~S^6:<W.1~4J<HMUHEF*X&7Q1#U'M<ZP'<U4'F'G?(!9QCL<(^P`A3DQR$?*+,MYJM::?Q$.>EB0U;4~BOX`.NM!,H  '/?\"I+1NVY8^01ZN.9%46/,,UY0OFP'V> 0,(X=R~_`/-Y?Q!A72!AE'-M?:(9ZJN3<!:,T^HK@_<JX@)!UQU/Z:1?C2(& E%#A_IYW4P,JXT1P)Q>/6(U$Z_ZH>`$#NA@8(DRX4_F>4HR X=BD_-Y-7DR/SOFT7F2Z<3:A3>IW2A CV0OFO2A>JHZIX6.FB_R!M.:JH--(*W8!?2$~X$Q*,)\"GIL1%>M%50'+G\"RUSI~*;J.#T7O*:DW6=>!~4`W_52&PB7XC ~_)#`@-9$WGII%YP%Q?52)PR5IAK6 :KX5 H;N4VV+*>OP*5SEGA,K13X371QN2~Q)#IXPB%#M:O.@/RM'_#VQ6+%''&_I<NIP 7$%%'Y-BVW=~%CY6(QM$^,;9H,K(Q,I`&_W1W=?74_H^Z^LMISMBK3~PRLFYX>%OW8-.B+ZCC$TK7F^$<P*ESO5$XOPX`_~1+PUK31\"M0.-3K,K9+K'*E8K'_*U=F)T`CB)2NN(T/!R0%\"14R=MH3SPF(L@@%!&MI:5JV=2$9\"P*->WGSD'WKI;T-#*?884.(7#!BLW`<5^*@ EY=L-\">=_$GW\"%PMD561PKA8U;W!G5TIA)/YIDQA`+NO 7RQ^AI7\"\"FSF J3N-T5#8)SIY!64ERYSYJ%- \"MC`M-* 5_-Q@<$;6#KU/*%C0C3=I<DJ#:87R2(9L'SPYT7H%WF7($2@~3-7K,&,>7 HR<2GIOK&I$R(*M!M.H6+U 11~S3->E:#(Q#=JFJ8A.+Q$5)A?\"PCS`@/FB:C5C?D-KT%Z?BW5P+8%#KF>N;\"9-%D:'(@1 .<N2^P(Y08`^\"+49CM#PIT9MHM~(=&\"=GW$J;JG#!=UB1R^,X3*.;=E!(W3LW1)~4?35B?FP<ZU>DR38+ABFS>_ZI16H0,YKX)TV&05).&C1 _SA<2Z7B7S?Y7EW-+@:F_B:THD4$?F;S/~ `/Q0+UXDPK?*$8)_/\"XNO:%YYA7<3*,W%CU;?,*(.,L' &G9EK;S>*`~ZRVZ1FYO!I+H./:(\n",
      "\n",
      "Decrypted message:  ONCE, THERE WAS A BOY WHO BECAME BORED WHEN HE WATCHED OVER THE VILLAGE SHEEP GRAZING ON THE HILLSIDE. TO ENTERTAIN HIMSELF, HE SANG OUT, ~WOLF! WOLF! THE WOLF IS CHASING THE SHEEP!~  WHEN THE VILLAGERS HEARD THE CRY, THEY CAME RUNNING UP THE HILL TO DRIVE THE WOLF AWAY. BUT, WHEN THEY ARRIVED, THEY SAW NO WOLF. THE BOY WAS AMUSED WHEN SEEING THEIR ANGRY FACES.  ~DON~T SCREAM WOLF, BOY,~ WARNED THE VILLAGERS, ~WHEN THERE IS NO WOLF!~ THEY ANGRILY WENT BACK DOWN THE HILL.  LATER, THE SHEPHERD BOY CRIED OUT ONCE AGAIN, ~WOLF! WOLF! THE WOLF IS CHASING THE SHEEP!~ TO HIS AMUSEMENT, HE LOOKED ON AS THE VILLAGERS CAME RUNNING UP THE HILL TO SCARE THE WOLF AWAY.  AS THEY SAW THERE WAS NO WOLF, THEY SAID STRICTLY, ~SAVE YOUR FRIGHTENED CRY FOR WHEN THERE REALLY IS A WOLF! DON~T CRY ~WOLF~ WHEN THERE IS NO WOLF!~ BUT THE BOY GRINNED AT THEIR WORDS WHILE THEY WALKED GRUMBLING DOWN THE HILL ONCE MORE.  LATER, THE BOY SAW A REAL WOLF SNEAKING AROUND HIS FLOCK. ALARMED, HE JUMPED ON HIS FEET AND CRIED OUT AS LOUD AS HE COULD, ~WOLF! WOLF!~ BUT THE VILLAGERS THOUGHT HE WAS FOOLING THEM AGAIN, AND SO THEY DIDN~T COME TO HELP.  AT SUNSET, THE VILLAGERS WENT LOOKING FOR THE BOY WHO HADN~T RETURNED WITH THEIR SHEEP. WHEN THEY WENT UP THE HILL, THEY FOUND HIM WEEPING.  ~THERE REALLY WAS A WOLF HERE! THE FLOCK IS GONE! I CRIED OUT, ~WOLF!~ BUT YOU DIDN~T COME,~ HE WAILED.  AN OLD MAN WENT TO COMFORT THE BOY. AS HE PUT HIS ARM AROUND HIM, HE SAID, ~NOBODY BELIEVES A LIAR, EVEN WHEN HE IS TELLING THE TRUTH!~\n"
     ]
    }
   ],
   "source": [
    "from random import randint\n",
    "\n",
    "Alpahbets = ' A!1B@2C#D3$E%4F^G5&H*6I(J7)K_8L-M9+N=0O:P;Q\\'R\"S?T/U>V<W.X,Y`Z~'\n",
    "\n",
    "def encrypt(text,key):\n",
    "    text = text.upper()\n",
    "    cipher_text = ''\n",
    "    for index, char in enumerate(text):\n",
    "        key_index = key[index]\n",
    "        char_index = Alpahbets.find(char)\n",
    "        cipher_text += Alpahbets[(char_index + key_index) % len(Alpahbets)]\n",
    "    return  cipher_text\n",
    "\n",
    "def decrypt(cipher_text,key):\n",
    "    cipher_text = cipher_text.upper()\n",
    "    plain_text = ''\n",
    "    for index, char in enumerate(cipher_text):\n",
    "        key_index = key[index]\n",
    "        char_index = Alpahbets.find(char)\n",
    "        plain_text += Alpahbets[(char_index - key_index) % len(Alpahbets)]\n",
    "    return plain_text\n",
    "\n",
    "def random_sequence(text):\n",
    "    random = []\n",
    "    for _ in range(len(text)):\n",
    "        random.append(randint(0,len(Alpahbets)))\n",
    "    return random\n",
    "\n",
    "if __name__ == '__main__':\n",
    "    message = input('Enter the message: ')\n",
    "    seq = random_sequence(message)\n",
    "    cipher_text = encrypt(message, seq)\n",
    "    print('\\nEncrypted message: ',cipher_text)\n",
    "    plain = decrypt(cipher_text, seq)\n",
    "    print('\\nDecrypted message: ',plain)\n",
    "    "
   ]
  },
  {
   "cell_type": "code",
   "execution_count": null,
   "id": "13f0ae6d",
   "metadata": {},
   "outputs": [],
   "source": []
  }
 ],
 "metadata": {
  "kernelspec": {
   "display_name": "Python 3 (ipykernel)",
   "language": "python",
   "name": "python3"
  },
  "language_info": {
   "codemirror_mode": {
    "name": "ipython",
    "version": 3
   },
   "file_extension": ".py",
   "mimetype": "text/x-python",
   "name": "python",
   "nbconvert_exporter": "python",
   "pygments_lexer": "ipython3",
   "version": "3.9.13"
  }
 },
 "nbformat": 4,
 "nbformat_minor": 5
}
